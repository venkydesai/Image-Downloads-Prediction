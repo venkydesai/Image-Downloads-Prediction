{
 "cells": [
  {
   "cell_type": "code",
   "execution_count": 2,
   "metadata": {},
   "outputs": [],
   "source": [
    "# Performing PCA on the data\n",
    "import numpy as np\n",
    "import pandas as pd\n",
    "import matplotlib.pyplot as plt"
   ]
  },
  {
   "cell_type": "code",
   "execution_count": 3,
   "metadata": {},
   "outputs": [
    {
     "data": {
      "text/html": [
       "<div>\n",
       "<style scoped>\n",
       "    .dataframe tbody tr th:only-of-type {\n",
       "        vertical-align: middle;\n",
       "    }\n",
       "\n",
       "    .dataframe tbody tr th {\n",
       "        vertical-align: top;\n",
       "    }\n",
       "\n",
       "    .dataframe thead th {\n",
       "        text-align: right;\n",
       "    }\n",
       "</style>\n",
       "<table border=\"1\" class=\"dataframe\">\n",
       "  <thead>\n",
       "    <tr style=\"text-align: right;\">\n",
       "      <th></th>\n",
       "      <th>image_id</th>\n",
       "      <th>image_category</th>\n",
       "      <th>aspect_ratio</th>\n",
       "      <th>camera_make</th>\n",
       "      <th>camera_model</th>\n",
       "      <th>iso</th>\n",
       "      <th>aperture_value</th>\n",
       "      <th>focal_length</th>\n",
       "      <th>exposure_time</th>\n",
       "      <th>total_days</th>\n",
       "      <th>stats_downloads</th>\n",
       "    </tr>\n",
       "  </thead>\n",
       "  <tbody>\n",
       "    <tr>\n",
       "      <th>0</th>\n",
       "      <td>68105c019b</td>\n",
       "      <td>Featured</td>\n",
       "      <td>1.50</td>\n",
       "      <td>CANON</td>\n",
       "      <td>Canon EOS 60D</td>\n",
       "      <td>200.0</td>\n",
       "      <td>14.0</td>\n",
       "      <td>50.0</td>\n",
       "      <td>0.016667</td>\n",
       "      <td>2361</td>\n",
       "      <td>167503</td>\n",
       "    </tr>\n",
       "    <tr>\n",
       "      <th>1</th>\n",
       "      <td>06d11c4edd</td>\n",
       "      <td>Featured</td>\n",
       "      <td>0.67</td>\n",
       "      <td>SONY</td>\n",
       "      <td>ILCE-6500</td>\n",
       "      <td>100.0</td>\n",
       "      <td>2.5</td>\n",
       "      <td>30.0</td>\n",
       "      <td>0.000800</td>\n",
       "      <td>1255</td>\n",
       "      <td>1839</td>\n",
       "    </tr>\n",
       "    <tr>\n",
       "      <th>2</th>\n",
       "      <td>f6599edba1</td>\n",
       "      <td>Featured</td>\n",
       "      <td>0.67</td>\n",
       "      <td>NIKON</td>\n",
       "      <td>NIKON D850</td>\n",
       "      <td>64.0</td>\n",
       "      <td>2.8</td>\n",
       "      <td>48.0</td>\n",
       "      <td>0.000625</td>\n",
       "      <td>1138</td>\n",
       "      <td>787</td>\n",
       "    </tr>\n",
       "    <tr>\n",
       "      <th>3</th>\n",
       "      <td>0f4bcc2d36</td>\n",
       "      <td>Featured</td>\n",
       "      <td>1.78</td>\n",
       "      <td>DJI</td>\n",
       "      <td>FC220</td>\n",
       "      <td>139.0</td>\n",
       "      <td>2.2</td>\n",
       "      <td>4.7</td>\n",
       "      <td>0.010000</td>\n",
       "      <td>1579</td>\n",
       "      <td>2049</td>\n",
       "    </tr>\n",
       "    <tr>\n",
       "      <th>4</th>\n",
       "      <td>74db502ed5</td>\n",
       "      <td>Featured</td>\n",
       "      <td>1.50</td>\n",
       "      <td>FUJIFILM</td>\n",
       "      <td>X-T10</td>\n",
       "      <td>400.0</td>\n",
       "      <td>6.4</td>\n",
       "      <td>22.2</td>\n",
       "      <td>0.002381</td>\n",
       "      <td>1050</td>\n",
       "      <td>2982</td>\n",
       "    </tr>\n",
       "  </tbody>\n",
       "</table>\n",
       "</div>"
      ],
      "text/plain": [
       "     image_id image_category  aspect_ratio camera_make   camera_model    iso  \\\n",
       "0  68105c019b       Featured          1.50       CANON  Canon EOS 60D  200.0   \n",
       "1  06d11c4edd       Featured          0.67        SONY      ILCE-6500  100.0   \n",
       "2  f6599edba1       Featured          0.67       NIKON     NIKON D850   64.0   \n",
       "3  0f4bcc2d36       Featured          1.78         DJI          FC220  139.0   \n",
       "4  74db502ed5       Featured          1.50    FUJIFILM          X-T10  400.0   \n",
       "\n",
       "   aperture_value  focal_length  exposure_time  total_days  stats_downloads  \n",
       "0            14.0          50.0       0.016667        2361           167503  \n",
       "1             2.5          30.0       0.000800        1255             1839  \n",
       "2             2.8          48.0       0.000625        1138              787  \n",
       "3             2.2           4.7       0.010000        1579             2049  \n",
       "4             6.4          22.2       0.002381        1050             2982  "
      ]
     },
     "execution_count": 3,
     "metadata": {},
     "output_type": "execute_result"
    }
   ],
   "source": [
    "dataset = pd.read_csv('mod_train.csv')\n",
    "dataset.head()"
   ]
  },
  {
   "cell_type": "code",
   "execution_count": 4,
   "metadata": {},
   "outputs": [
    {
     "data": {
      "text/html": [
       "<div>\n",
       "<style scoped>\n",
       "    .dataframe tbody tr th:only-of-type {\n",
       "        vertical-align: middle;\n",
       "    }\n",
       "\n",
       "    .dataframe tbody tr th {\n",
       "        vertical-align: top;\n",
       "    }\n",
       "\n",
       "    .dataframe thead th {\n",
       "        text-align: right;\n",
       "    }\n",
       "</style>\n",
       "<table border=\"1\" class=\"dataframe\">\n",
       "  <thead>\n",
       "    <tr style=\"text-align: right;\">\n",
       "      <th></th>\n",
       "      <th>image_id</th>\n",
       "      <th>aspect_ratio</th>\n",
       "      <th>camera_make</th>\n",
       "      <th>iso</th>\n",
       "      <th>aperture_value</th>\n",
       "      <th>focal_length</th>\n",
       "      <th>exposure_time</th>\n",
       "      <th>total_days</th>\n",
       "      <th>stats_downloads</th>\n",
       "    </tr>\n",
       "  </thead>\n",
       "  <tbody>\n",
       "    <tr>\n",
       "      <th>0</th>\n",
       "      <td>68105c019b</td>\n",
       "      <td>1.50</td>\n",
       "      <td>0</td>\n",
       "      <td>200.0</td>\n",
       "      <td>14.0</td>\n",
       "      <td>50.0</td>\n",
       "      <td>0.016667</td>\n",
       "      <td>2361</td>\n",
       "      <td>167503</td>\n",
       "    </tr>\n",
       "    <tr>\n",
       "      <th>1</th>\n",
       "      <td>06d11c4edd</td>\n",
       "      <td>0.67</td>\n",
       "      <td>1</td>\n",
       "      <td>100.0</td>\n",
       "      <td>2.5</td>\n",
       "      <td>30.0</td>\n",
       "      <td>0.000800</td>\n",
       "      <td>1255</td>\n",
       "      <td>1839</td>\n",
       "    </tr>\n",
       "    <tr>\n",
       "      <th>2</th>\n",
       "      <td>f6599edba1</td>\n",
       "      <td>0.67</td>\n",
       "      <td>2</td>\n",
       "      <td>64.0</td>\n",
       "      <td>2.8</td>\n",
       "      <td>48.0</td>\n",
       "      <td>0.000625</td>\n",
       "      <td>1138</td>\n",
       "      <td>787</td>\n",
       "    </tr>\n",
       "    <tr>\n",
       "      <th>3</th>\n",
       "      <td>0f4bcc2d36</td>\n",
       "      <td>1.78</td>\n",
       "      <td>3</td>\n",
       "      <td>139.0</td>\n",
       "      <td>2.2</td>\n",
       "      <td>4.7</td>\n",
       "      <td>0.010000</td>\n",
       "      <td>1579</td>\n",
       "      <td>2049</td>\n",
       "    </tr>\n",
       "    <tr>\n",
       "      <th>4</th>\n",
       "      <td>74db502ed5</td>\n",
       "      <td>1.50</td>\n",
       "      <td>4</td>\n",
       "      <td>400.0</td>\n",
       "      <td>6.4</td>\n",
       "      <td>22.2</td>\n",
       "      <td>0.002381</td>\n",
       "      <td>1050</td>\n",
       "      <td>2982</td>\n",
       "    </tr>\n",
       "  </tbody>\n",
       "</table>\n",
       "</div>"
      ],
      "text/plain": [
       "     image_id  aspect_ratio  camera_make    iso  aperture_value  focal_length  \\\n",
       "0  68105c019b          1.50            0  200.0            14.0          50.0   \n",
       "1  06d11c4edd          0.67            1  100.0             2.5          30.0   \n",
       "2  f6599edba1          0.67            2   64.0             2.8          48.0   \n",
       "3  0f4bcc2d36          1.78            3  139.0             2.2           4.7   \n",
       "4  74db502ed5          1.50            4  400.0             6.4          22.2   \n",
       "\n",
       "   exposure_time  total_days  stats_downloads  \n",
       "0       0.016667        2361           167503  \n",
       "1       0.000800        1255             1839  \n",
       "2       0.000625        1138              787  \n",
       "3       0.010000        1579             2049  \n",
       "4       0.002381        1050             2982  "
      ]
     },
     "execution_count": 4,
     "metadata": {},
     "output_type": "execute_result"
    }
   ],
   "source": [
    "# Convert the camera_make column to numeric\n",
    "dataset['camera_make'] = pd.factorize(dataset['camera_make'])[0]\n",
    "# Drop the camera_model column\n",
    "dataset = dataset.drop('camera_model', axis=1)\n",
    "# Drop the Image category column\n",
    "dataset = dataset.drop('image_category', axis=1)\n",
    "dataset.head()"
   ]
  },
  {
   "cell_type": "code",
   "execution_count": 5,
   "metadata": {},
   "outputs": [],
   "source": [
    "# Get X and y values X is all the columns except the first one and the last one Y is the last column\n",
    "X = dataset.iloc[:, 1:-1].values\n",
    "y = dataset.iloc[:, -1].values"
   ]
  },
  {
   "cell_type": "code",
   "execution_count": 6,
   "metadata": {},
   "outputs": [
    {
     "data": {
      "text/plain": [
       "array([[1.50000000e+00, 0.00000000e+00, 2.00000000e+02, ...,\n",
       "        5.00000000e+01, 1.66666667e-02, 2.36100000e+03],\n",
       "       [6.70000000e-01, 1.00000000e+00, 1.00000000e+02, ...,\n",
       "        3.00000000e+01, 8.00000000e-04, 1.25500000e+03],\n",
       "       [6.70000000e-01, 2.00000000e+00, 6.40000000e+01, ...,\n",
       "        4.80000000e+01, 6.25000000e-04, 1.13800000e+03],\n",
       "       ...,\n",
       "       [1.50000000e+00, 0.00000000e+00, 4.00000000e+02, ...,\n",
       "        2.10000000e+01, 2.50000000e-04, 2.50100000e+03],\n",
       "       [1.50000000e+00, 2.00000000e+00, 8.00000000e+02, ...,\n",
       "        5.00000000e+01, 3.12500000e-03, 2.50800000e+03],\n",
       "       [1.50000000e+00, 0.00000000e+00, 4.00000000e+02, ...,\n",
       "        2.70000000e+02, 1.25000000e-03, 1.52200000e+03]])"
      ]
     },
     "execution_count": 6,
     "metadata": {},
     "output_type": "execute_result"
    }
   ],
   "source": [
    "# Impute the missing values with the mean of the column\n",
    "from sklearn.impute import SimpleImputer\n",
    "imputer = SimpleImputer(missing_values=np.nan, strategy='mean')\n",
    "imputer.fit(X[:, 1:])\n",
    "X[:, 1:] = imputer.transform(X[:, 1:])\n",
    "X\n"
   ]
  },
  {
   "cell_type": "code",
   "execution_count": 7,
   "metadata": {},
   "outputs": [],
   "source": [
    "from sklearn.preprocessing import StandardScaler\n",
    "sc = StandardScaler()\n",
    "X = sc.fit_transform(X)"
   ]
  },
  {
   "attachments": {},
   "cell_type": "markdown",
   "metadata": {},
   "source": [
    "### Resource:\n",
    "https://vitalflux.com/pca-explained-variance-concept-python-example/\n",
    "\n",
    "https://en.wikipedia.org/wiki/File:SCREE_plot.jpg"
   ]
  },
  {
   "cell_type": "code",
   "execution_count": 19,
   "metadata": {},
   "outputs": [
    {
     "data": {
      "image/png": "[encoded data removed]",
      "text/plain": [
       "<Figure size 1000x500 with 1 Axes>"
      ]
     },
     "metadata": {},
     "output_type": "display_data"
    }
   ],
   "source": [
    "# Perfrom explained variance analysis for PCA\n",
    "from sklearn.decomposition import PCA\n",
    "pca = PCA()\n",
    "X_pca = pca.fit_transform(X)\n",
    "explained_variance = pca.explained_variance_ratio_\n",
    "explained_variance\n",
    "\n",
    "# Plot the explained variance\n",
    "plt.figure(figsize=(10, 5))\n",
    "plt.plot(np.cumsum(explained_variance))\n",
    "plt.xlabel('Number of components')\n",
    "plt.ylabel('Cumulative explained variance')\n",
    "plt.grid()\n",
    "plt.show()\n",
    "\n",
    "\n"
   ]
  },
  {
   "cell_type": "code",
   "execution_count": 20,
   "metadata": {},
   "outputs": [
    {
     "data": {
      "image/png": "[encoded data removed]",
      "text/plain": [
       "<Figure size 1000x500 with 1 Axes>"
      ]
     },
     "metadata": {},
     "output_type": "display_data"
    }
   ],
   "source": [
    "# Scree plot for PCA\n",
    "plt.figure(figsize=(10, 5))\n",
    "plt.plot(explained_variance)\n",
    "plt.xlabel('Number of components')\n",
    "plt.ylabel('Explained variance')\n",
    "plt.grid()\n",
    "plt.show()\n"
   ]
  },
  {
   "cell_type": "code",
   "execution_count": null,
   "metadata": {},
   "outputs": [],
   "source": []
  }
 ],
 "metadata": {
  "kernelspec": {
   "display_name": "Python 3",
   "language": "python",
   "name": "python3"
  },
  "language_info": {
   "codemirror_mode": {
    "name": "ipython",
    "version": 3
   },
   "file_extension": ".py",
   "mimetype": "text/x-python",
   "name": "python",
   "nbconvert_exporter": "python",
   "pygments_lexer": "ipython3",
   "version": "3.10.6"
  },
  "orig_nbformat": 4
 },
 "nbformat": 4,
 "nbformat_minor": 2
}
