{
 "cells": [
  {
   "cell_type": "code",
   "execution_count": 48,
   "id": "14a66213",
   "metadata": {},
   "outputs": [],
   "source": [
    "import numpy as np\n",
    "import pandas as pd\n",
    "import matplotlib.pyplot as plt\n",
    "import seaborn as sns"
   ]
  },
  {
   "cell_type": "code",
   "execution_count": 49,
   "id": "805b275d",
   "metadata": {},
   "outputs": [],
   "source": [
    "df=pd.read_csv('train.csv')"
   ]
  },
  {
   "cell_type": "code",
   "execution_count": 50,
   "id": "84527c91",
   "metadata": {},
   "outputs": [
    {
     "data": {
      "text/html": [
       "<div>\n",
       "<style scoped>\n",
       "    .dataframe tbody tr th:only-of-type {\n",
       "        vertical-align: middle;\n",
       "    }\n",
       "\n",
       "    .dataframe tbody tr th {\n",
       "        vertical-align: top;\n",
       "    }\n",
       "\n",
       "    .dataframe thead th {\n",
       "        text-align: right;\n",
       "    }\n",
       "</style>\n",
       "<table border=\"1\" class=\"dataframe\">\n",
       "  <thead>\n",
       "    <tr style=\"text-align: right;\">\n",
       "      <th></th>\n",
       "      <th>image_id</th>\n",
       "      <th>photo_url</th>\n",
       "      <th>photo_image_url</th>\n",
       "      <th>photo_submitted_at</th>\n",
       "      <th>obs_day</th>\n",
       "      <th>obs_hour</th>\n",
       "      <th>obs_min</th>\n",
       "      <th>obs_sec</th>\n",
       "      <th>image_category</th>\n",
       "      <th>width</th>\n",
       "      <th>...</th>\n",
       "      <th>iso</th>\n",
       "      <th>aperture_value</th>\n",
       "      <th>focal_length</th>\n",
       "      <th>exposure_time</th>\n",
       "      <th>latitude</th>\n",
       "      <th>longitude</th>\n",
       "      <th>country</th>\n",
       "      <th>city</th>\n",
       "      <th>total_days</th>\n",
       "      <th>stats_downloads</th>\n",
       "    </tr>\n",
       "  </thead>\n",
       "  <tbody>\n",
       "    <tr>\n",
       "      <th>0</th>\n",
       "      <td>68105c019b</td>\n",
       "      <td>https://unsplash.com/photos/7AcMUSYRZpU</td>\n",
       "      <td>https://images.unsplash.com/photo-147455715737...</td>\n",
       "      <td>2016-09-22 15:13:10.134081</td>\n",
       "      <td>Thursday</td>\n",
       "      <td>15</td>\n",
       "      <td>13</td>\n",
       "      <td>10</td>\n",
       "      <td>Featured</td>\n",
       "      <td>2592</td>\n",
       "      <td>...</td>\n",
       "      <td>200.0</td>\n",
       "      <td>14.0</td>\n",
       "      <td>50.0</td>\n",
       "      <td>1/60</td>\n",
       "      <td>NaN</td>\n",
       "      <td>NaN</td>\n",
       "      <td>USA</td>\n",
       "      <td>Wichita, Kansas</td>\n",
       "      <td>2361</td>\n",
       "      <td>167503</td>\n",
       "    </tr>\n",
       "    <tr>\n",
       "      <th>1</th>\n",
       "      <td>06d11c4edd</td>\n",
       "      <td>https://unsplash.com/photos/grWwLCSRr4o</td>\n",
       "      <td>https://images.unsplash.com/photo-157005349769...</td>\n",
       "      <td>2019-10-02 21:59:51.712464</td>\n",
       "      <td>Wednesday</td>\n",
       "      <td>21</td>\n",
       "      <td>59</td>\n",
       "      <td>51</td>\n",
       "      <td>Featured</td>\n",
       "      <td>4000</td>\n",
       "      <td>...</td>\n",
       "      <td>100.0</td>\n",
       "      <td>2.5</td>\n",
       "      <td>30.0</td>\n",
       "      <td>1/1250</td>\n",
       "      <td>NaN</td>\n",
       "      <td>NaN</td>\n",
       "      <td>NaN</td>\n",
       "      <td>NaN</td>\n",
       "      <td>1255</td>\n",
       "      <td>1839</td>\n",
       "    </tr>\n",
       "    <tr>\n",
       "      <th>2</th>\n",
       "      <td>f6599edba1</td>\n",
       "      <td>https://unsplash.com/photos/OR4q9_Y2nuY</td>\n",
       "      <td>https://images.unsplash.com/photo-158018448188...</td>\n",
       "      <td>2020-01-28 04:10:11.128061</td>\n",
       "      <td>Tuesday</td>\n",
       "      <td>4</td>\n",
       "      <td>10</td>\n",
       "      <td>11</td>\n",
       "      <td>Featured</td>\n",
       "      <td>5504</td>\n",
       "      <td>...</td>\n",
       "      <td>64.0</td>\n",
       "      <td>2.8</td>\n",
       "      <td>48.0</td>\n",
       "      <td>1/1600</td>\n",
       "      <td>NaN</td>\n",
       "      <td>NaN</td>\n",
       "      <td>NaN</td>\n",
       "      <td>NaN</td>\n",
       "      <td>1138</td>\n",
       "      <td>787</td>\n",
       "    </tr>\n",
       "    <tr>\n",
       "      <th>3</th>\n",
       "      <td>0f4bcc2d36</td>\n",
       "      <td>https://unsplash.com/photos/Qc3AmsZ3g2A</td>\n",
       "      <td>https://images.unsplash.com/photo-1542066365-0...</td>\n",
       "      <td>2018-11-12 23:46:21.990378</td>\n",
       "      <td>Monday</td>\n",
       "      <td>23</td>\n",
       "      <td>46</td>\n",
       "      <td>21</td>\n",
       "      <td>Featured</td>\n",
       "      <td>3627</td>\n",
       "      <td>...</td>\n",
       "      <td>139.0</td>\n",
       "      <td>2.2</td>\n",
       "      <td>4.7</td>\n",
       "      <td>1/100</td>\n",
       "      <td>32.784562</td>\n",
       "      <td>-79.785303</td>\n",
       "      <td>United States</td>\n",
       "      <td>Isle of Palms</td>\n",
       "      <td>1579</td>\n",
       "      <td>2049</td>\n",
       "    </tr>\n",
       "    <tr>\n",
       "      <th>4</th>\n",
       "      <td>74db502ed5</td>\n",
       "      <td>https://unsplash.com/photos/6BLE9HVwIJw</td>\n",
       "      <td>https://images.unsplash.com/photo-158781208024...</td>\n",
       "      <td>2020-04-25 11:04:20.912527</td>\n",
       "      <td>Saturday</td>\n",
       "      <td>11</td>\n",
       "      <td>4</td>\n",
       "      <td>20</td>\n",
       "      <td>Featured</td>\n",
       "      <td>4896</td>\n",
       "      <td>...</td>\n",
       "      <td>400.0</td>\n",
       "      <td>6.4</td>\n",
       "      <td>22.2</td>\n",
       "      <td>1/420</td>\n",
       "      <td>66.074878</td>\n",
       "      <td>-23.125068</td>\n",
       "      <td>Island</td>\n",
       "      <td>Ísafjörður</td>\n",
       "      <td>1050</td>\n",
       "      <td>2982</td>\n",
       "    </tr>\n",
       "  </tbody>\n",
       "</table>\n",
       "<p>5 rows × 26 columns</p>\n",
       "</div>"
      ],
      "text/plain": [
       "     image_id                                photo_url  \\\n",
       "0  68105c019b  https://unsplash.com/photos/7AcMUSYRZpU   \n",
       "1  06d11c4edd  https://unsplash.com/photos/grWwLCSRr4o   \n",
       "2  f6599edba1  https://unsplash.com/photos/OR4q9_Y2nuY   \n",
       "3  0f4bcc2d36  https://unsplash.com/photos/Qc3AmsZ3g2A   \n",
       "4  74db502ed5  https://unsplash.com/photos/6BLE9HVwIJw   \n",
       "\n",
       "                                     photo_image_url  \\\n",
       "0  https://images.unsplash.com/photo-147455715737...   \n",
       "1  https://images.unsplash.com/photo-157005349769...   \n",
       "2  https://images.unsplash.com/photo-158018448188...   \n",
       "3  https://images.unsplash.com/photo-1542066365-0...   \n",
       "4  https://images.unsplash.com/photo-158781208024...   \n",
       "\n",
       "           photo_submitted_at    obs_day  obs_hour  obs_min  obs_sec  \\\n",
       "0  2016-09-22 15:13:10.134081   Thursday        15       13       10   \n",
       "1  2019-10-02 21:59:51.712464  Wednesday        21       59       51   \n",
       "2  2020-01-28 04:10:11.128061    Tuesday         4       10       11   \n",
       "3  2018-11-12 23:46:21.990378     Monday        23       46       21   \n",
       "4  2020-04-25 11:04:20.912527   Saturday        11        4       20   \n",
       "\n",
       "  image_category  width  ...    iso  aperture_value focal_length  \\\n",
       "0       Featured   2592  ...  200.0            14.0         50.0   \n",
       "1       Featured   4000  ...  100.0             2.5         30.0   \n",
       "2       Featured   5504  ...   64.0             2.8         48.0   \n",
       "3       Featured   3627  ...  139.0             2.2          4.7   \n",
       "4       Featured   4896  ...  400.0             6.4         22.2   \n",
       "\n",
       "  exposure_time   latitude  longitude        country             city  \\\n",
       "0          1/60        NaN        NaN            USA  Wichita, Kansas   \n",
       "1        1/1250        NaN        NaN            NaN              NaN   \n",
       "2        1/1600        NaN        NaN            NaN              NaN   \n",
       "3         1/100  32.784562 -79.785303  United States    Isle of Palms   \n",
       "4         1/420  66.074878 -23.125068         Island       Ísafjörður   \n",
       "\n",
       "   total_days stats_downloads  \n",
       "0        2361          167503  \n",
       "1        1255            1839  \n",
       "2        1138             787  \n",
       "3        1579            2049  \n",
       "4        1050            2982  \n",
       "\n",
       "[5 rows x 26 columns]"
      ]
     },
     "execution_count": 50,
     "metadata": {},
     "output_type": "execute_result"
    }
   ],
   "source": [
    "df.head()"
   ]
  },
  {
   "cell_type": "code",
   "execution_count": 51,
   "id": "1c35b4ae",
   "metadata": {},
   "outputs": [
    {
     "name": "stdout",
     "output_type": "stream",
     "text": [
      "<class 'pandas.core.frame.DataFrame'>\n",
      "RangeIndex: 12197 entries, 0 to 12196\n",
      "Data columns (total 26 columns):\n",
      " #   Column              Non-Null Count  Dtype  \n",
      "---  ------              --------------  -----  \n",
      " 0   image_id            12197 non-null  object \n",
      " 1   photo_url           12197 non-null  object \n",
      " 2   photo_image_url     12197 non-null  object \n",
      " 3   photo_submitted_at  12197 non-null  object \n",
      " 4   obs_day             12197 non-null  object \n",
      " 5   obs_hour            12197 non-null  int64  \n",
      " 6   obs_min             12197 non-null  int64  \n",
      " 7   obs_sec             12197 non-null  int64  \n",
      " 8   image_category      12197 non-null  object \n",
      " 9   width               12197 non-null  int64  \n",
      " 10  height              12197 non-null  int64  \n",
      " 11  aspect_ratio        12197 non-null  float64\n",
      " 12  description1        5151 non-null   object \n",
      " 13  description2        11544 non-null  object \n",
      " 14  camera_make         12157 non-null  object \n",
      " 15  camera_model        12149 non-null  object \n",
      " 16  iso                 12142 non-null  float64\n",
      " 17  aperture_value      12188 non-null  float64\n",
      " 18  focal_length        12197 non-null  float64\n",
      " 19  exposure_time       12149 non-null  object \n",
      " 20  latitude            3474 non-null   float64\n",
      " 21  longitude           3472 non-null   float64\n",
      " 22  country             4289 non-null   object \n",
      " 23  city                3050 non-null   object \n",
      " 24  total_days          12197 non-null  int64  \n",
      " 25  stats_downloads     12197 non-null  int64  \n",
      "dtypes: float64(6), int64(7), object(13)\n",
      "memory usage: 2.4+ MB\n"
     ]
    }
   ],
   "source": [
    "df.info()"
   ]
  },
  {
   "cell_type": "code",
   "execution_count": 52,
   "id": "29dfeebe",
   "metadata": {},
   "outputs": [
    {
     "data": {
      "text/plain": [
       "<AxesSubplot:>"
      ]
     },
     "execution_count": 52,
     "metadata": {},
     "output_type": "execute_result"
    },
    {
     "data": {
      "image/png": "[encoded data removed]",
      "text/plain": [
       "<Figure size 640x480 with 1 Axes>"
      ]
     },
     "metadata": {},
     "output_type": "display_data"
    }
   ],
   "source": [
    "sns.heatmap(df.isnull(),yticklabels=False,cbar=False)"
   ]
  },
  {
   "cell_type": "code",
   "execution_count": 53,
   "id": "9cc22be8",
   "metadata": {},
   "outputs": [],
   "source": [
    "df.drop(['photo_url','photo_image_url','photo_submitted_at','height','obs_day','obs_hour','obs_min','obs_sec','width','height','description1','description2','latitude','longitude','country','city'],axis=1,inplace=True)\n"
   ]
  },
  {
   "cell_type": "code",
   "execution_count": 54,
   "id": "b1c123f9",
   "metadata": {},
   "outputs": [
    {
     "data": {
      "text/plain": [
       "<AxesSubplot:>"
      ]
     },
     "execution_count": 54,
     "metadata": {},
     "output_type": "execute_result"
    },
    {
     "data": {
      "image/png": "[encoded data removed]",
      "text/plain": [
       "<Figure size 640x480 with 1 Axes>"
      ]
     },
     "metadata": {},
     "output_type": "display_data"
    }
   ],
   "source": [
    "sns.heatmap(df.isnull(),yticklabels=False,cbar=False)"
   ]
  },
  {
   "cell_type": "code",
   "execution_count": 8,
   "id": "0b78f629",
   "metadata": {},
   "outputs": [
    {
     "data": {
      "text/plain": [
       "0          1/60\n",
       "1        1/1250\n",
       "2        1/1600\n",
       "3         1/100\n",
       "4         1/420\n",
       "          ...  \n",
       "12192     1/400\n",
       "12193     1/320\n",
       "12194    1/4000\n",
       "12195     1/320\n",
       "12196     1/800\n",
       "Name: exposure_time, Length: 12197, dtype: object"
      ]
     },
     "execution_count": 8,
     "metadata": {},
     "output_type": "execute_result"
    }
   ],
   "source": [
    "df['exposure_time']"
   ]
  },
  {
   "cell_type": "code",
   "execution_count": 55,
   "id": "07d33dba",
   "metadata": {},
   "outputs": [],
   "source": [
    "def floater(data):\n",
    "    for i in str(data[\"exposure_time\"]):\n",
    "        if i.isalpha():\n",
    "            return None\n",
    "    spl = str(data[\"exposure_time\"]).split(\"/\")\n",
    "    \n",
    "    if len(spl) > 1:\n",
    "        return float(spl[0])/float(spl[1])\n",
    "    else:\n",
    "        return float(spl[0])\n",
    "\n",
    "df[\"exposure_time\"] = df.apply(floater, axis=1)"
   ]
  },
  {
   "cell_type": "code",
   "execution_count": 85,
   "id": "6bdb8c0c",
   "metadata": {},
   "outputs": [],
   "source": [
    "df = df[df[\"exposure_time\"].notna()]\n",
    "df = df[df[\"iso\"].notna()]\n",
    "df = df[df[\"camera_make\"].notna()]\n",
    "df = df[df[\"camera_model\"].notna()]"
   ]
  },
  {
   "cell_type": "code",
   "execution_count": 92,
   "id": "c358d06c",
   "metadata": {},
   "outputs": [
    {
     "name": "stderr",
     "output_type": "stream",
     "text": [
      "C:\\Users\\VENKATESH\\AppData\\Local\\Temp\\ipykernel_46008\\3396484650.py:5: SettingWithCopyWarning: \n",
      "A value is trying to be set on a copy of a slice from a DataFrame\n",
      "\n",
      "See the caveats in the documentation: https://pandas.pydata.org/pandas-docs/stable/user_guide/indexing.html#returning-a-view-versus-a-copy\n",
      "  df['camera_make'].iloc[i]= (df['camera_make'].iloc[i]).replace(',','').split(' ')[0]\n"
     ]
    },
    {
     "data": {
      "text/plain": [
       "CANON         4837\n",
       "NIKON         2621\n",
       "SONY          2047\n",
       "FUJIFILM       853\n",
       "DJI            443\n",
       "APPLE          317\n",
       "PANASONIC      262\n",
       "OLYMPUS        157\n",
       "HASSELBLAD     146\n",
       "RICOH          113\n",
       "SAMSUNG         51\n",
       "GOPRO           38\n",
       "LEICA           35\n",
       "GOOGLE          30\n",
       "PENTAX          27\n",
       "HUAWEI          22\n",
       "XIAOMI          10\n",
       "ONEPLUS          6\n",
       "MOTOROLA         5\n",
       "LG               5\n",
       "Name: camera_make, dtype: int64"
      ]
     },
     "execution_count": 92,
     "metadata": {},
     "output_type": "execute_result"
    }
   ],
   "source": [
    "# df = df[df[\"camera_make\"].notna()]\n",
    "df['camera_make']=df['camera_make'].str.upper()\n",
    "def split_cam():\n",
    "    for i in range(len(df)):\n",
    "        df['camera_make'].iloc[i]= (df['camera_make'].iloc[i]).replace(',','').split(' ')[0]\n",
    "\n",
    "split_cam()\n",
    "df['camera_make'].value_counts().head(20)"
   ]
  },
  {
   "cell_type": "code",
   "execution_count": 99,
   "id": "3eb21753",
   "metadata": {},
   "outputs": [
    {
     "data": {
      "text/plain": [
       "<AxesSubplot:>"
      ]
     },
     "execution_count": 99,
     "metadata": {},
     "output_type": "execute_result"
    },
    {
     "data": {
      "image/png": "[encoded data removed]",
      "text/plain": [
       "<Figure size 640x480 with 1 Axes>"
      ]
     },
     "metadata": {},
     "output_type": "display_data"
    }
   ],
   "source": [
    "sns.heatmap(mod_df.isnull(),yticklabels=False,cbar=False)"
   ]
  },
  {
   "cell_type": "code",
   "execution_count": 93,
   "id": "3be757ea",
   "metadata": {
    "scrolled": true
   },
   "outputs": [],
   "source": [
    "df.to_csv('mod_train.csv',index=False)"
   ]
  },
  {
   "cell_type": "code",
   "execution_count": 94,
   "id": "2f287a01",
   "metadata": {},
   "outputs": [],
   "source": [
    "mod_df=pd.read_csv('mod_train.csv')\n"
   ]
  },
  {
   "cell_type": "code",
   "execution_count": 95,
   "id": "fe699622",
   "metadata": {},
   "outputs": [
    {
     "data": {
      "text/html": [
       "<div>\n",
       "<style scoped>\n",
       "    .dataframe tbody tr th:only-of-type {\n",
       "        vertical-align: middle;\n",
       "    }\n",
       "\n",
       "    .dataframe tbody tr th {\n",
       "        vertical-align: top;\n",
       "    }\n",
       "\n",
       "    .dataframe thead th {\n",
       "        text-align: right;\n",
       "    }\n",
       "</style>\n",
       "<table border=\"1\" class=\"dataframe\">\n",
       "  <thead>\n",
       "    <tr style=\"text-align: right;\">\n",
       "      <th></th>\n",
       "      <th>image_id</th>\n",
       "      <th>image_category</th>\n",
       "      <th>aspect_ratio</th>\n",
       "      <th>camera_make</th>\n",
       "      <th>camera_model</th>\n",
       "      <th>iso</th>\n",
       "      <th>aperture_value</th>\n",
       "      <th>focal_length</th>\n",
       "      <th>exposure_time</th>\n",
       "      <th>total_days</th>\n",
       "      <th>stats_downloads</th>\n",
       "    </tr>\n",
       "  </thead>\n",
       "  <tbody>\n",
       "    <tr>\n",
       "      <th>0</th>\n",
       "      <td>68105c019b</td>\n",
       "      <td>Featured</td>\n",
       "      <td>1.50</td>\n",
       "      <td>CANON</td>\n",
       "      <td>Canon EOS 60D</td>\n",
       "      <td>200.0</td>\n",
       "      <td>14.0</td>\n",
       "      <td>50.0</td>\n",
       "      <td>0.016667</td>\n",
       "      <td>2361</td>\n",
       "      <td>167503</td>\n",
       "    </tr>\n",
       "    <tr>\n",
       "      <th>1</th>\n",
       "      <td>06d11c4edd</td>\n",
       "      <td>Featured</td>\n",
       "      <td>0.67</td>\n",
       "      <td>SONY</td>\n",
       "      <td>ILCE-6500</td>\n",
       "      <td>100.0</td>\n",
       "      <td>2.5</td>\n",
       "      <td>30.0</td>\n",
       "      <td>0.000800</td>\n",
       "      <td>1255</td>\n",
       "      <td>1839</td>\n",
       "    </tr>\n",
       "    <tr>\n",
       "      <th>2</th>\n",
       "      <td>f6599edba1</td>\n",
       "      <td>Featured</td>\n",
       "      <td>0.67</td>\n",
       "      <td>NIKON</td>\n",
       "      <td>NIKON D850</td>\n",
       "      <td>64.0</td>\n",
       "      <td>2.8</td>\n",
       "      <td>48.0</td>\n",
       "      <td>0.000625</td>\n",
       "      <td>1138</td>\n",
       "      <td>787</td>\n",
       "    </tr>\n",
       "    <tr>\n",
       "      <th>3</th>\n",
       "      <td>0f4bcc2d36</td>\n",
       "      <td>Featured</td>\n",
       "      <td>1.78</td>\n",
       "      <td>DJI</td>\n",
       "      <td>FC220</td>\n",
       "      <td>139.0</td>\n",
       "      <td>2.2</td>\n",
       "      <td>4.7</td>\n",
       "      <td>0.010000</td>\n",
       "      <td>1579</td>\n",
       "      <td>2049</td>\n",
       "    </tr>\n",
       "    <tr>\n",
       "      <th>4</th>\n",
       "      <td>74db502ed5</td>\n",
       "      <td>Featured</td>\n",
       "      <td>1.50</td>\n",
       "      <td>FUJIFILM</td>\n",
       "      <td>X-T10</td>\n",
       "      <td>400.0</td>\n",
       "      <td>6.4</td>\n",
       "      <td>22.2</td>\n",
       "      <td>0.002381</td>\n",
       "      <td>1050</td>\n",
       "      <td>2982</td>\n",
       "    </tr>\n",
       "    <tr>\n",
       "      <th>...</th>\n",
       "      <td>...</td>\n",
       "      <td>...</td>\n",
       "      <td>...</td>\n",
       "      <td>...</td>\n",
       "      <td>...</td>\n",
       "      <td>...</td>\n",
       "      <td>...</td>\n",
       "      <td>...</td>\n",
       "      <td>...</td>\n",
       "      <td>...</td>\n",
       "      <td>...</td>\n",
       "    </tr>\n",
       "    <tr>\n",
       "      <th>12054</th>\n",
       "      <td>18eaca644e</td>\n",
       "      <td>Featured</td>\n",
       "      <td>0.73</td>\n",
       "      <td>CANON</td>\n",
       "      <td>Canon EOS 5D Mark IV</td>\n",
       "      <td>100.0</td>\n",
       "      <td>5.6</td>\n",
       "      <td>300.0</td>\n",
       "      <td>0.002500</td>\n",
       "      <td>1265</td>\n",
       "      <td>2353</td>\n",
       "    </tr>\n",
       "    <tr>\n",
       "      <th>12055</th>\n",
       "      <td>eb25cd769e</td>\n",
       "      <td>Featured</td>\n",
       "      <td>0.72</td>\n",
       "      <td>CANON</td>\n",
       "      <td>Canon EOS 5D Mark III</td>\n",
       "      <td>400.0</td>\n",
       "      <td>5.0</td>\n",
       "      <td>100.0</td>\n",
       "      <td>0.003125</td>\n",
       "      <td>1503</td>\n",
       "      <td>3541</td>\n",
       "    </tr>\n",
       "    <tr>\n",
       "      <th>12056</th>\n",
       "      <td>73302461d0</td>\n",
       "      <td>Featured</td>\n",
       "      <td>1.50</td>\n",
       "      <td>CANON</td>\n",
       "      <td>Canon EOS M</td>\n",
       "      <td>400.0</td>\n",
       "      <td>4.0</td>\n",
       "      <td>21.0</td>\n",
       "      <td>0.000250</td>\n",
       "      <td>2501</td>\n",
       "      <td>14581</td>\n",
       "    </tr>\n",
       "    <tr>\n",
       "      <th>12057</th>\n",
       "      <td>f2587b2b08</td>\n",
       "      <td>Featured</td>\n",
       "      <td>1.50</td>\n",
       "      <td>NIKON</td>\n",
       "      <td>NIKON D5300</td>\n",
       "      <td>800.0</td>\n",
       "      <td>1.8</td>\n",
       "      <td>50.0</td>\n",
       "      <td>0.003125</td>\n",
       "      <td>2508</td>\n",
       "      <td>9247</td>\n",
       "    </tr>\n",
       "    <tr>\n",
       "      <th>12058</th>\n",
       "      <td>053c21aecf</td>\n",
       "      <td>Featured</td>\n",
       "      <td>1.50</td>\n",
       "      <td>CANON</td>\n",
       "      <td>Canon EOS 60D</td>\n",
       "      <td>400.0</td>\n",
       "      <td>10.0</td>\n",
       "      <td>270.0</td>\n",
       "      <td>0.001250</td>\n",
       "      <td>1522</td>\n",
       "      <td>1497</td>\n",
       "    </tr>\n",
       "  </tbody>\n",
       "</table>\n",
       "<p>12059 rows × 11 columns</p>\n",
       "</div>"
      ],
      "text/plain": [
       "         image_id image_category  aspect_ratio camera_make  \\\n",
       "0      68105c019b       Featured          1.50       CANON   \n",
       "1      06d11c4edd       Featured          0.67        SONY   \n",
       "2      f6599edba1       Featured          0.67       NIKON   \n",
       "3      0f4bcc2d36       Featured          1.78         DJI   \n",
       "4      74db502ed5       Featured          1.50    FUJIFILM   \n",
       "...           ...            ...           ...         ...   \n",
       "12054  18eaca644e       Featured          0.73       CANON   \n",
       "12055  eb25cd769e       Featured          0.72       CANON   \n",
       "12056  73302461d0       Featured          1.50       CANON   \n",
       "12057  f2587b2b08       Featured          1.50       NIKON   \n",
       "12058  053c21aecf       Featured          1.50       CANON   \n",
       "\n",
       "                camera_model    iso  aperture_value  focal_length  \\\n",
       "0              Canon EOS 60D  200.0            14.0          50.0   \n",
       "1                  ILCE-6500  100.0             2.5          30.0   \n",
       "2                 NIKON D850   64.0             2.8          48.0   \n",
       "3                      FC220  139.0             2.2           4.7   \n",
       "4                      X-T10  400.0             6.4          22.2   \n",
       "...                      ...    ...             ...           ...   \n",
       "12054   Canon EOS 5D Mark IV  100.0             5.6         300.0   \n",
       "12055  Canon EOS 5D Mark III  400.0             5.0         100.0   \n",
       "12056            Canon EOS M  400.0             4.0          21.0   \n",
       "12057            NIKON D5300  800.0             1.8          50.0   \n",
       "12058          Canon EOS 60D  400.0            10.0         270.0   \n",
       "\n",
       "       exposure_time  total_days  stats_downloads  \n",
       "0           0.016667        2361           167503  \n",
       "1           0.000800        1255             1839  \n",
       "2           0.000625        1138              787  \n",
       "3           0.010000        1579             2049  \n",
       "4           0.002381        1050             2982  \n",
       "...              ...         ...              ...  \n",
       "12054       0.002500        1265             2353  \n",
       "12055       0.003125        1503             3541  \n",
       "12056       0.000250        2501            14581  \n",
       "12057       0.003125        2508             9247  \n",
       "12058       0.001250        1522             1497  \n",
       "\n",
       "[12059 rows x 11 columns]"
      ]
     },
     "execution_count": 95,
     "metadata": {},
     "output_type": "execute_result"
    }
   ],
   "source": [
    "mod_df"
   ]
  },
  {
   "cell_type": "code",
   "execution_count": 97,
   "id": "7b33f9d1",
   "metadata": {},
   "outputs": [],
   "source": [
    "df_k=pd.read_csv('train_keywords.csv')"
   ]
  },
  {
   "cell_type": "code",
   "execution_count": 101,
   "id": "decf8ef5",
   "metadata": {},
   "outputs": [
    {
     "name": "stdout",
     "output_type": "stream",
     "text": [
      "<class 'pandas.core.frame.DataFrame'>\n",
      "RangeIndex: 1291032 entries, 0 to 1291031\n",
      "Data columns (total 4 columns):\n",
      " #   Column                  Non-Null Count    Dtype  \n",
      "---  ------                  --------------    -----  \n",
      " 0   image_id                1291032 non-null  object \n",
      " 1   image_classification    1291032 non-null  object \n",
      " 2   classification_keyword  1291032 non-null  object \n",
      " 3   confidence_value        1142625 non-null  float64\n",
      "dtypes: float64(1), object(3)\n",
      "memory usage: 39.4+ MB\n"
     ]
    }
   ],
   "source": [
    "df_k.info()"
   ]
  },
  {
   "cell_type": "code",
   "execution_count": 100,
   "id": "e0c3f7f2",
   "metadata": {},
   "outputs": [
    {
     "data": {
      "text/plain": [
       "<AxesSubplot:>"
      ]
     },
     "execution_count": 100,
     "metadata": {},
     "output_type": "execute_result"
    },
    {
     "data": {
      "image/png": "[encoded data removed]",
      "text/plain": [
       "<Figure size 640x480 with 1 Axes>"
      ]
     },
     "metadata": {},
     "output_type": "display_data"
    }
   ],
   "source": [
    "sns.heatmap(df_k.isnull(),yticklabels=False,cbar=False)"
   ]
  },
  {
   "cell_type": "code",
   "execution_count": 106,
   "id": "dbeb31eb",
   "metadata": {
    "scrolled": true
   },
   "outputs": [
    {
     "data": {
      "text/plain": [
       "plant          9908\n",
       "nature         9759\n",
       "outdoors       9387\n",
       "animal         8901\n",
       "clothing       7694\n",
       "               ... \n",
       "alto adige        1\n",
       "golden ray        1\n",
       "ice fishing       1\n",
       "frosen            1\n",
       "luxe              1\n",
       "Name: classification_keyword, Length: 18250, dtype: int64"
      ]
     },
     "execution_count": 106,
     "metadata": {},
     "output_type": "execute_result"
    }
   ],
   "source": [
    "df_k['classification_keyword'].value_counts()"
   ]
  },
  {
   "cell_type": "code",
   "execution_count": 108,
   "id": "ccca5678",
   "metadata": {},
   "outputs": [
    {
     "data": {
      "text/plain": [
       "Predicted    1171681\n",
       "Suggested     119351\n",
       "Name: image_classification, dtype: int64"
      ]
     },
     "execution_count": 108,
     "metadata": {},
     "output_type": "execute_result"
    }
   ],
   "source": [
    "df_k['image_classification'].value_counts()"
   ]
  },
  {
   "cell_type": "code",
   "execution_count": 113,
   "id": "c6050a2f",
   "metadata": {
    "scrolled": true
   },
   "outputs": [
    {
     "name": "stdout",
     "output_type": "stream",
     "text": [
      "<class 'pandas.core.series.Series'>\n",
      "RangeIndex: 1291032 entries, 0 to 1291031\n",
      "Series name: confidence_value\n",
      "Non-Null Count    Dtype  \n",
      "--------------    -----  \n",
      "1142625 non-null  float64\n",
      "dtypes: float64(1)\n",
      "memory usage: 9.8 MB\n"
     ]
    }
   ],
   "source": [
    "df_k['confidence_value'].value_counts()"
   ]
  },
  {
   "cell_type": "code",
   "execution_count": 115,
   "id": "21158f16",
   "metadata": {},
   "outputs": [
    {
     "name": "stdout",
     "output_type": "stream",
     "text": [
      "<class 'pandas.core.series.Series'>\n",
      "RangeIndex: 1291032 entries, 0 to 1291031\n",
      "Series name: classification_keyword\n",
      "Non-Null Count    Dtype \n",
      "--------------    ----- \n",
      "1291032 non-null  object\n",
      "dtypes: object(1)\n",
      "memory usage: 9.8+ MB\n"
     ]
    }
   ],
   "source": [
    "df_k['classification_keyword'].info()"
   ]
  },
  {
   "cell_type": "code",
   "execution_count": 110,
   "id": "8a6f1bcd",
   "metadata": {},
   "outputs": [
    {
     "data": {
      "text/plain": [
       "148407"
      ]
     },
     "execution_count": 110,
     "metadata": {},
     "output_type": "execute_result"
    }
   ],
   "source": [
    "df_k['confidence_value'].isnull().sum()"
   ]
  },
  {
   "cell_type": "markdown",
   "id": "be82f26a",
   "metadata": {},
   "source": [
    "#Dropping Null values from confidence_value"
   ]
  },
  {
   "cell_type": "code",
   "execution_count": 116,
   "id": "ed12c310",
   "metadata": {},
   "outputs": [],
   "source": [
    "df_k = df_k[df_k[\"confidence_value\"].notna()]"
   ]
  },
  {
   "cell_type": "code",
   "execution_count": 117,
   "id": "0f2ba1bb",
   "metadata": {},
   "outputs": [
    {
     "data": {
      "text/plain": [
       "0"
      ]
     },
     "execution_count": 117,
     "metadata": {},
     "output_type": "execute_result"
    }
   ],
   "source": [
    "df_k['confidence_value'].isnull().sum()"
   ]
  },
  {
   "cell_type": "code",
   "execution_count": 118,
   "id": "b50d9bac",
   "metadata": {},
   "outputs": [
    {
     "data": {
      "text/plain": [
       "<AxesSubplot:>"
      ]
     },
     "execution_count": 118,
     "metadata": {},
     "output_type": "execute_result"
    },
    {
     "data": {
      "image/png": "[encoded data removed]",
      "text/plain": [
       "<Figure size 640x480 with 1 Axes>"
      ]
     },
     "metadata": {},
     "output_type": "display_data"
    }
   ],
   "source": [
    "sns.heatmap(df_k.isnull(),yticklabels=False,cbar=False)"
   ]
  },
  {
   "cell_type": "code",
   "execution_count": 119,
   "id": "9d0faf0e",
   "metadata": {},
   "outputs": [],
   "source": [
    "df_k.to_csv('mod_keywords.csv',index=False)"
   ]
  },
  {
   "cell_type": "code",
   "execution_count": 120,
   "id": "f3572608",
   "metadata": {},
   "outputs": [],
   "source": [
    "df_c=pd.read_csv('train_colors.csv')"
   ]
  },
  {
   "cell_type": "code",
   "execution_count": 121,
   "id": "c4aea8a3",
   "metadata": {},
   "outputs": [
    {
     "name": "stdout",
     "output_type": "stream",
     "text": [
      "<class 'pandas.core.frame.DataFrame'>\n",
      "RangeIndex: 119891 entries, 0 to 119890\n",
      "Data columns (total 8 columns):\n",
      " #   Column          Non-Null Count   Dtype  \n",
      "---  ------          --------------   -----  \n",
      " 0   image_id        119891 non-null  object \n",
      " 1   R               119891 non-null  int64  \n",
      " 2   G               119891 non-null  int64  \n",
      " 3   B               119891 non-null  int64  \n",
      " 4   image_hex       119891 non-null  object \n",
      " 5   keyword         119891 non-null  object \n",
      " 6   pixel_coverage  119891 non-null  float64\n",
      " 7   color_score     119891 non-null  float64\n",
      "dtypes: float64(2), int64(3), object(3)\n",
      "memory usage: 7.3+ MB\n"
     ]
    }
   ],
   "source": [
    "df_c.info()"
   ]
  },
  {
   "cell_type": "code",
   "execution_count": 124,
   "id": "7b9873c5",
   "metadata": {},
   "outputs": [
    {
     "data": {
      "text/plain": [
       "<AxesSubplot:>"
      ]
     },
     "execution_count": 124,
     "metadata": {},
     "output_type": "execute_result"
    },
    {
     "data": {
      "image/png": "[encoded data removed]",
      "text/plain": [
       "<Figure size 640x480 with 1 Axes>"
      ]
     },
     "metadata": {},
     "output_type": "display_data"
    }
   ],
   "source": [
    "sns.heatmap(df_c.isnull(),yticklabels=False,cbar=False)"
   ]
  },
  {
   "cell_type": "code",
   "execution_count": null,
   "id": "fef722c9",
   "metadata": {},
   "outputs": [],
   "source": []
  },
  {
   "cell_type": "code",
   "execution_count": null,
   "id": "ea1d2cd8",
   "metadata": {},
   "outputs": [],
   "source": []
  },
  {
   "cell_type": "code",
   "execution_count": null,
   "id": "d8ad327e",
   "metadata": {},
   "outputs": [],
   "source": []
  },
  {
   "cell_type": "code",
   "execution_count": null,
   "id": "c7eb01a9",
   "metadata": {},
   "outputs": [],
   "source": []
  },
  {
   "cell_type": "code",
   "execution_count": null,
   "id": "46cb9d7e",
   "metadata": {},
   "outputs": [],
   "source": []
  }
 ],
 "metadata": {
  "kernelspec": {
   "display_name": "Python 3 (ipykernel)",
   "language": "python",
   "name": "python3"
  },
  "language_info": {
   "codemirror_mode": {
    "name": "ipython",
    "version": 3
   },
   "file_extension": ".py",
   "mimetype": "text/x-python",
   "name": "python",
   "nbconvert_exporter": "python",
   "pygments_lexer": "ipython3",
   "version": "3.9.13"
  }
 },
 "nbformat": 4,
 "nbformat_minor": 5
}
